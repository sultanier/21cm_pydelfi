{
  "nbformat": 4,
  "nbformat_minor": 0,
  "metadata": {
    "colab": {
      "name": "wavelet.ipynb",
      "provenance": [],
      "include_colab_link": true
    },
    "kernelspec": {
      "name": "python3",
      "display_name": "Python 3"
    },
    "accelerator": "GPU"
  },
  "cells": [
    {
      "cell_type": "markdown",
      "metadata": {
        "id": "view-in-github",
        "colab_type": "text"
      },
      "source": [
        "<a href=\"https://colab.research.google.com/github/sultanier/21cm_pydelfi/blob/master/wavelet.ipynb\" target=\"_parent\"><img src=\"https://colab.research.google.com/assets/colab-badge.svg\" alt=\"Open In Colab\"/></a>"
      ]
    },
    {
      "cell_type": "code",
      "metadata": {
        "id": "ZFUTQvdSBleh",
        "colab_type": "code",
        "outputId": "7964a6e9-4f6a-400c-fa85-7de61dec1765",
        "colab": {
          "base_uri": "https://localhost:8080/",
          "height": 224
        }
      },
      "source": [
        "pip install kymatio\n"
      ],
      "execution_count": 0,
      "outputs": [
        {
          "output_type": "stream",
          "text": [
            "Collecting kymatio\n",
            "\u001b[?25l  Downloading https://files.pythonhosted.org/packages/a6/b1/63c780db2adf4810397272bb3a2c15592d9860b2c85525f2658db2f9a248/kymatio-0.1.0-py3-none-any.whl (54kB)\n",
            "\u001b[K     |████████████████████████████████| 61kB 2.9MB/s \n",
            "\u001b[?25hCollecting appdirs (from kymatio)\n",
            "  Downloading https://files.pythonhosted.org/packages/56/eb/810e700ed1349edde4cbdc1b2a21e28cdf115f9faf263f6bbf8447c1abf3/appdirs-1.4.3-py2.py3-none-any.whl\n",
            "Collecting configparser (from kymatio)\n",
            "  Downloading https://files.pythonhosted.org/packages/7a/2a/95ed0501cf5d8709490b1d3a3f9b5cf340da6c433f896bbe9ce08dbe6785/configparser-4.0.2-py2.py3-none-any.whl\n",
            "Requirement already satisfied: numpy in /usr/local/lib/python3.6/dist-packages (from kymatio) (1.16.5)\n",
            "Requirement already satisfied: scipy in /usr/local/lib/python3.6/dist-packages (from kymatio) (1.3.1)\n",
            "Installing collected packages: appdirs, configparser, kymatio\n",
            "Successfully installed appdirs-1.4.3 configparser-4.0.2 kymatio-0.1.0\n"
          ],
          "name": "stdout"
        }
      ]
    },
    {
      "cell_type": "code",
      "metadata": {
        "id": "RgWF61LDB9jh",
        "colab_type": "code",
        "outputId": "76294ba0-3a12-42ea-8031-bbb66b7052ff",
        "colab": {
          "base_uri": "https://localhost:8080/",
          "height": 34
        }
      },
      "source": [
        "import torch\n",
        "from kymatio import Scattering2D\n",
        "scattering = Scattering2D(J=1, shape=(32, 32))\n",
        "x = torch.randn(1, 1, 32, 32)\n",
        "Sx = scattering(x)\n",
        "print(Sx.size())"
      ],
      "execution_count": 0,
      "outputs": [
        {
          "output_type": "stream",
          "text": [
            "torch.Size([1, 1, 9, 16, 16])\n"
          ],
          "name": "stdout"
        }
      ]
    }
  ]
}